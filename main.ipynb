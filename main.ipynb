﻿{
 "cells": [
  {
   "cell_type": "code",
   "id": "initial_id",
   "metadata": {
    "collapsed": true,
    "ExecuteTime": {
     "end_time": "2025-10-01T08:33:22.677593Z",
     "start_time": "2025-10-01T08:33:22.674860Z"
    }
   },
   "source": [
    "import json\n",
    "from pathlib import Path\n",
    "\n",
    "import yaml\n",
    "import jsonref\n",
    "from src.utils import yaml_json_loader"
   ],
   "outputs": [],
   "execution_count": 6
  },
  {
   "metadata": {
    "ExecuteTime": {
     "end_time": "2025-10-01T08:33:22.702713Z",
     "start_time": "2025-10-01T08:33:22.700058Z"
    }
   },
   "cell_type": "code",
   "source": [
    "SCHEMA_PATH = Path.cwd() / \"schema\" / \"schema.yml\"\n",
    "JSON_SCHEMA_PATH = Path.cwd() / \"schema\" / \"schema.json\""
   ],
   "id": "ea39fa90d884b34d",
   "outputs": [],
   "execution_count": 7
  },
  {
   "metadata": {
    "ExecuteTime": {
     "end_time": "2025-10-01T08:33:22.727643Z",
     "start_time": "2025-10-01T08:33:22.721992Z"
    }
   },
   "cell_type": "code",
   "source": [
    "with open(SCHEMA_PATH, \"r\", encoding=\"utf-8\") as f:\n",
    "    yaml_schema = yaml.safe_load(f)"
   ],
   "id": "8672c5cb09f93b1",
   "outputs": [],
   "execution_count": 8
  },
  {
   "metadata": {
    "ExecuteTime": {
     "end_time": "2025-10-01T08:33:22.761023Z",
     "start_time": "2025-10-01T08:33:22.757542Z"
    }
   },
   "cell_type": "code",
   "source": [
    "base_uri = SCHEMA_PATH.parent.as_uri() + \"/\"\n",
    "resolved_schema = jsonref.JsonRef.replace_refs(\n",
    "    yaml_schema,\n",
    "    base_uri=base_uri,\n",
    "    loader=yaml_json_loader\n",
    ")"
   ],
   "id": "5253cd0f9f4ff3fb",
   "outputs": [],
   "execution_count": 9
  },
  {
   "metadata": {
    "ExecuteTime": {
     "end_time": "2025-10-01T08:33:23.939436Z",
     "start_time": "2025-10-01T08:33:23.933909Z"
    }
   },
   "cell_type": "code",
   "source": [
    "with open(JSON_SCHEMA_PATH, \"w\", encoding=\"utf-8\") as f:\n",
    "    json.dump(resolved_schema, f, indent=2)"
   ],
   "id": "94f70d2d7ebc8eb7",
   "outputs": [],
   "execution_count": 10
  }
 ],
 "metadata": {
  "kernelspec": {
   "display_name": "Python 3",
   "language": "python",
   "name": "python3"
  },
  "language_info": {
   "codemirror_mode": {
    "name": "ipython",
    "version": 2
   },
   "file_extension": ".py",
   "mimetype": "text/x-python",
   "name": "python",
   "nbconvert_exporter": "python",
   "pygments_lexer": "ipython2",
   "version": "2.7.6"
  }
 },
 "nbformat": 4,
 "nbformat_minor": 5
}
